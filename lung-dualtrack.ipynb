{
 "cells": [
  {
   "cell_type": "code",
   "execution_count": 1,
   "metadata": {
    "execution": {
     "iopub.execute_input": "2024-10-24T00:48:24.542199Z",
     "iopub.status.busy": "2024-10-24T00:48:24.541291Z",
     "iopub.status.idle": "2024-10-24T00:48:45.423284Z",
     "shell.execute_reply": "2024-10-24T00:48:45.422174Z",
     "shell.execute_reply.started": "2024-10-24T00:48:24.542141Z"
    },
    "trusted": true
   },
   "outputs": [
    {
     "name": "stdout",
     "output_type": "stream",
     "text": [
      "Collecting hypernetx\n",
      "  Downloading hypernetx-2.3.8-py3-none-any.whl.metadata (17 kB)\n",
      "Collecting celluloid>=0.2.0 (from hypernetx)\n",
      "  Downloading celluloid-0.2.0-py3-none-any.whl.metadata (4.8 kB)\n",
      "Requirement already satisfied: decorator>=5.1.1 in /opt/conda/lib/python3.10/site-packages (from hypernetx) (5.1.1)\n",
      "Requirement already satisfied: igraph>=0.11.4 in /opt/conda/lib/python3.10/site-packages (from hypernetx) (0.11.6)\n",
      "Requirement already satisfied: networkx>=3.3 in /opt/conda/lib/python3.10/site-packages (from hypernetx) (3.3)\n",
      "Requirement already satisfied: pandas>=2.2.2 in /opt/conda/lib/python3.10/site-packages (from hypernetx) (2.2.2)\n",
      "Collecting scikit-learn>=1.4.2 (from hypernetx)\n",
      "  Downloading scikit_learn-1.5.2-cp310-cp310-manylinux_2_17_x86_64.manylinux2014_x86_64.whl.metadata (13 kB)\n",
      "Requirement already satisfied: scipy>=1.13 in /opt/conda/lib/python3.10/site-packages (from hypernetx) (1.14.1)\n",
      "Requirement already satisfied: matplotlib in /opt/conda/lib/python3.10/site-packages (from celluloid>=0.2.0->hypernetx) (3.7.5)\n",
      "Requirement already satisfied: texttable>=1.6.2 in /opt/conda/lib/python3.10/site-packages (from igraph>=0.11.4->hypernetx) (1.7.0)\n",
      "Requirement already satisfied: numpy>=1.22.4 in /opt/conda/lib/python3.10/site-packages (from pandas>=2.2.2->hypernetx) (1.26.4)\n",
      "Requirement already satisfied: python-dateutil>=2.8.2 in /opt/conda/lib/python3.10/site-packages (from pandas>=2.2.2->hypernetx) (2.9.0.post0)\n",
      "Requirement already satisfied: pytz>=2020.1 in /opt/conda/lib/python3.10/site-packages (from pandas>=2.2.2->hypernetx) (2024.1)\n",
      "Requirement already satisfied: tzdata>=2022.7 in /opt/conda/lib/python3.10/site-packages (from pandas>=2.2.2->hypernetx) (2024.1)\n",
      "Requirement already satisfied: joblib>=1.2.0 in /opt/conda/lib/python3.10/site-packages (from scikit-learn>=1.4.2->hypernetx) (1.4.2)\n",
      "Requirement already satisfied: threadpoolctl>=3.1.0 in /opt/conda/lib/python3.10/site-packages (from scikit-learn>=1.4.2->hypernetx) (3.5.0)\n",
      "Requirement already satisfied: six>=1.5 in /opt/conda/lib/python3.10/site-packages (from python-dateutil>=2.8.2->pandas>=2.2.2->hypernetx) (1.16.0)\n",
      "Requirement already satisfied: contourpy>=1.0.1 in /opt/conda/lib/python3.10/site-packages (from matplotlib->celluloid>=0.2.0->hypernetx) (1.2.1)\n",
      "Requirement already satisfied: cycler>=0.10 in /opt/conda/lib/python3.10/site-packages (from matplotlib->celluloid>=0.2.0->hypernetx) (0.12.1)\n",
      "Requirement already satisfied: fonttools>=4.22.0 in /opt/conda/lib/python3.10/site-packages (from matplotlib->celluloid>=0.2.0->hypernetx) (4.53.0)\n",
      "Requirement already satisfied: kiwisolver>=1.0.1 in /opt/conda/lib/python3.10/site-packages (from matplotlib->celluloid>=0.2.0->hypernetx) (1.4.5)\n",
      "Requirement already satisfied: packaging>=20.0 in /opt/conda/lib/python3.10/site-packages (from matplotlib->celluloid>=0.2.0->hypernetx) (21.3)\n",
      "Requirement already satisfied: pillow>=6.2.0 in /opt/conda/lib/python3.10/site-packages (from matplotlib->celluloid>=0.2.0->hypernetx) (10.3.0)\n",
      "Requirement already satisfied: pyparsing>=2.3.1 in /opt/conda/lib/python3.10/site-packages (from matplotlib->celluloid>=0.2.0->hypernetx) (3.1.2)\n",
      "Downloading hypernetx-2.3.8-py3-none-any.whl (583 kB)\n",
      "\u001b[2K   \u001b[90m━━━━━━━━━━━━━━━━━━━━━━━━━━━━━━━━━━━━━━━━\u001b[0m \u001b[32m583.8/583.8 kB\u001b[0m \u001b[31m10.0 MB/s\u001b[0m eta \u001b[36m0:00:00\u001b[0ma \u001b[36m0:00:01\u001b[0m\n",
      "\u001b[?25hDownloading celluloid-0.2.0-py3-none-any.whl (5.4 kB)\n",
      "Downloading scikit_learn-1.5.2-cp310-cp310-manylinux_2_17_x86_64.manylinux2014_x86_64.whl (13.3 MB)\n",
      "\u001b[2K   \u001b[90m━━━━━━━━━━━━━━━━━━━━━━━━━━━━━━━━━━━━━━━━\u001b[0m \u001b[32m13.3/13.3 MB\u001b[0m \u001b[31m86.0 MB/s\u001b[0m eta \u001b[36m0:00:00\u001b[0m:00:01\u001b[0m0:01\u001b[0m\n",
      "\u001b[?25hInstalling collected packages: scikit-learn, celluloid, hypernetx\n",
      "  Attempting uninstall: scikit-learn\n",
      "    Found existing installation: scikit-learn 1.2.2\n",
      "    Uninstalling scikit-learn-1.2.2:\n",
      "      Successfully uninstalled scikit-learn-1.2.2\n",
      "\u001b[31mERROR: pip's dependency resolver does not currently take into account all the packages that are installed. This behaviour is the source of the following dependency conflicts.\n",
      "bigframes 0.22.0 requires google-cloud-bigquery[bqstorage,pandas]>=3.10.0, but you have google-cloud-bigquery 2.34.4 which is incompatible.\n",
      "bigframes 0.22.0 requires google-cloud-storage>=2.0.0, but you have google-cloud-storage 1.44.0 which is incompatible.\n",
      "bigframes 0.22.0 requires pandas<2.1.4,>=1.5.0, but you have pandas 2.2.2 which is incompatible.\n",
      "cesium 0.12.3 requires numpy<3.0,>=2.0, but you have numpy 1.26.4 which is incompatible.\n",
      "dataproc-jupyter-plugin 0.1.79 requires pydantic~=1.10.0, but you have pydantic 2.9.2 which is incompatible.\u001b[0m\u001b[31m\n",
      "\u001b[0mSuccessfully installed celluloid-0.2.0 hypernetx-2.3.8 scikit-learn-1.5.2\n"
     ]
    }
   ],
   "source": [
    "!pip install hypernetx"
   ]
  },
  {
   "cell_type": "code",
   "execution_count": 2,
   "metadata": {
    "execution": {
     "iopub.execute_input": "2024-10-24T00:48:45.425670Z",
     "iopub.status.busy": "2024-10-24T00:48:45.425314Z",
     "iopub.status.idle": "2024-10-24T00:48:59.194448Z",
     "shell.execute_reply": "2024-10-24T00:48:59.193232Z",
     "shell.execute_reply.started": "2024-10-24T00:48:45.425620Z"
    },
    "trusted": true
   },
   "outputs": [
    {
     "name": "stdout",
     "output_type": "stream",
     "text": [
      "Collecting torch_geometric\n",
      "  Downloading torch_geometric-2.6.1-py3-none-any.whl.metadata (63 kB)\n",
      "\u001b[2K     \u001b[90m━━━━━━━━━━━━━━━━━━━━━━━━━━━━━━━━━━━━━━━━\u001b[0m \u001b[32m63.1/63.1 kB\u001b[0m \u001b[31m1.6 MB/s\u001b[0m eta \u001b[36m0:00:00\u001b[0m\n",
      "\u001b[?25hRequirement already satisfied: aiohttp in /opt/conda/lib/python3.10/site-packages (from torch_geometric) (3.9.5)\n",
      "Requirement already satisfied: fsspec in /opt/conda/lib/python3.10/site-packages (from torch_geometric) (2024.6.1)\n",
      "Requirement already satisfied: jinja2 in /opt/conda/lib/python3.10/site-packages (from torch_geometric) (3.1.4)\n",
      "Requirement already satisfied: numpy in /opt/conda/lib/python3.10/site-packages (from torch_geometric) (1.26.4)\n",
      "Requirement already satisfied: psutil>=5.8.0 in /opt/conda/lib/python3.10/site-packages (from torch_geometric) (5.9.3)\n",
      "Requirement already satisfied: pyparsing in /opt/conda/lib/python3.10/site-packages (from torch_geometric) (3.1.2)\n",
      "Requirement already satisfied: requests in /opt/conda/lib/python3.10/site-packages (from torch_geometric) (2.32.3)\n",
      "Requirement already satisfied: tqdm in /opt/conda/lib/python3.10/site-packages (from torch_geometric) (4.66.4)\n",
      "Requirement already satisfied: aiosignal>=1.1.2 in /opt/conda/lib/python3.10/site-packages (from aiohttp->torch_geometric) (1.3.1)\n",
      "Requirement already satisfied: attrs>=17.3.0 in /opt/conda/lib/python3.10/site-packages (from aiohttp->torch_geometric) (23.2.0)\n",
      "Requirement already satisfied: frozenlist>=1.1.1 in /opt/conda/lib/python3.10/site-packages (from aiohttp->torch_geometric) (1.4.1)\n",
      "Requirement already satisfied: multidict<7.0,>=4.5 in /opt/conda/lib/python3.10/site-packages (from aiohttp->torch_geometric) (6.0.5)\n",
      "Requirement already satisfied: yarl<2.0,>=1.0 in /opt/conda/lib/python3.10/site-packages (from aiohttp->torch_geometric) (1.9.4)\n",
      "Requirement already satisfied: async-timeout<5.0,>=4.0 in /opt/conda/lib/python3.10/site-packages (from aiohttp->torch_geometric) (4.0.3)\n",
      "Requirement already satisfied: MarkupSafe>=2.0 in /opt/conda/lib/python3.10/site-packages (from jinja2->torch_geometric) (2.1.5)\n",
      "Requirement already satisfied: charset-normalizer<4,>=2 in /opt/conda/lib/python3.10/site-packages (from requests->torch_geometric) (3.3.2)\n",
      "Requirement already satisfied: idna<4,>=2.5 in /opt/conda/lib/python3.10/site-packages (from requests->torch_geometric) (3.7)\n",
      "Requirement already satisfied: urllib3<3,>=1.21.1 in /opt/conda/lib/python3.10/site-packages (from requests->torch_geometric) (1.26.18)\n",
      "Requirement already satisfied: certifi>=2017.4.17 in /opt/conda/lib/python3.10/site-packages (from requests->torch_geometric) (2024.8.30)\n",
      "Downloading torch_geometric-2.6.1-py3-none-any.whl (1.1 MB)\n",
      "\u001b[2K   \u001b[90m━━━━━━━━━━━━━━━━━━━━━━━━━━━━━━━━━━━━━━━━\u001b[0m \u001b[32m1.1/1.1 MB\u001b[0m \u001b[31m16.5 MB/s\u001b[0m eta \u001b[36m0:00:00\u001b[0ma \u001b[36m0:00:01\u001b[0m\n",
      "\u001b[?25hInstalling collected packages: torch_geometric\n",
      "Successfully installed torch_geometric-2.6.1\n"
     ]
    }
   ],
   "source": [
    "!pip install torch_geometric"
   ]
  },
  {
   "cell_type": "code",
   "execution_count": 3,
   "metadata": {
    "execution": {
     "iopub.execute_input": "2024-10-24T00:48:59.196373Z",
     "iopub.status.busy": "2024-10-24T00:48:59.196011Z",
     "iopub.status.idle": "2024-10-24T00:49:10.038573Z",
     "shell.execute_reply": "2024-10-24T00:49:10.037697Z",
     "shell.execute_reply.started": "2024-10-24T00:48:59.196331Z"
    },
    "trusted": true
   },
   "outputs": [],
   "source": [
    "import torch\n",
    "import torch.nn as nn\n",
    "import torch.optim as optim\n",
    "import numpy as np\n",
    "import networkx as nx\n",
    "from torch_geometric.utils import from_networkx\n",
    "from torchvision import datasets, transforms\n",
    "from torch.utils.data import DataLoader, random_split\n",
    "import matplotlib.pyplot as plt\n",
    "import torch.nn.functional as F"
   ]
  },
  {
   "cell_type": "code",
   "execution_count": null,
   "metadata": {
    "execution": {
     "iopub.execute_input": "2024-10-24T00:49:10.042373Z",
     "iopub.status.busy": "2024-10-24T00:49:10.041388Z",
     "iopub.status.idle": "2024-10-24T00:49:29.551786Z",
     "shell.execute_reply": "2024-10-24T00:49:29.550800Z",
     "shell.execute_reply.started": "2024-10-24T00:49:10.042321Z"
    },
    "trusted": true
   },
   "outputs": [
    {
     "name": "stdout",
     "output_type": "stream",
     "text": [
      "Training Set Size: 10500\n",
      "Validation Set Size: 4500\n"
     ]
    }
   ],
   "source": [
    "import torch\n",
    "from torch.utils.data import DataLoader, random_split\n",
    "from torchvision import datasets, transforms\n",
    "\n",
    "# Image transformations\n",
    "transform = transforms.Compose([\n",
    "    transforms.Resize((256, 256)),\n",
    "    transforms.RandomHorizontalFlip(),  # Randomly flip the images horizontally\n",
    "    transforms.RandomRotation(20),\n",
    "    transforms.ToTensor(),\n",
    "])\n",
    "\n",
    "# Load the dataset (use ImageFolder or your custom dataset)\n",
    "dataset = datasets.ImageFolder(root='/kaggle/input/lung-and-colon-cancer-histopathological-images/lung_colon_image_set/lung_image_sets', transform=transform)\n",
    "\n",
    "# Split dataset into train and validation sets (70% train, 30% val)\n",
    "train_size = int(0.7 * len(dataset))\n",
    "val_size = len(dataset) - train_size\n",
    "train_dataset, val_dataset = random_split(dataset, [train_size, val_size])\n",
    "\n",
    "# DataLoader for train and validation sets\n",
    "train_loader = DataLoader(train_dataset, batch_size=16, shuffle=True)\n",
    "val_loader = DataLoader(val_dataset, batch_size=16, shuffle=False)\n",
    "\n",
    "# Print dataset sizes to verify\n",
    "print(f\"Training Set Size: {len(train_dataset)}\")\n",
    "print(f\"Validation Set Size: {len(val_dataset)}\")\n"
   ]
  },
  {
   "cell_type": "code",
   "execution_count": 5,
   "metadata": {
    "execution": {
     "iopub.execute_input": "2024-10-24T00:49:29.553474Z",
     "iopub.status.busy": "2024-10-24T00:49:29.553135Z",
     "iopub.status.idle": "2024-10-24T00:49:29.563285Z",
     "shell.execute_reply": "2024-10-24T00:49:29.562384Z",
     "shell.execute_reply.started": "2024-10-24T00:49:29.553436Z"
    },
    "trusted": true
   },
   "outputs": [],
   "source": [
    "import torch\n",
    "import torch.nn as nn\n",
    "import torch.optim as optim\n",
    "import networkx as nx\n",
    "from torch_geometric.utils import from_networkx\n",
    "\n",
    "# Create hyperedges based on random sampling\n",
    "import numpy as np\n",
    "\n",
    "def create_hyperedges(num_images, top_k=5):\n",
    "    hyperedges = []\n",
    "    for i in range(num_images):\n",
    "        # Ensure we do not sample more indices than available\n",
    "        num_samples = min(num_images - 1, top_k)  # -1 to avoid sampling itself\n",
    "        similar_indices = np.random.choice(num_images - 1, size=num_samples, replace=False)  # Random sampling\n",
    "        hyperedge = [i] + similar_indices.tolist()  # Include the current index\n",
    "        hyperedges.append(hyperedge)\n",
    "    return hyperedges\n",
    "\n",
    "# Build a hypergraph from hyperedges\n",
    "def build_hypergraph(hyperedges):\n",
    "    H = nx.Graph()\n",
    "    for edge in hyperedges:\n",
    "        for i in range(len(edge)):\n",
    "            for j in range(i + 1, len(edge)):\n",
    "                H.add_edge(edge[i], edge[j])\n",
    "    return H\n",
    "\n",
    "# Convert hypergraph to standard graph\n",
    "def hypergraph_to_graph(H):\n",
    "    G = nx.Graph()\n",
    "    G.add_nodes_from(H.nodes)\n",
    "    for edge in H.edges:\n",
    "        G.add_edge(edge[0], edge[1])\n",
    "    return G"
   ]
  },
  {
   "cell_type": "code",
   "execution_count": 6,
   "metadata": {
    "execution": {
     "iopub.execute_input": "2024-10-24T00:49:29.565650Z",
     "iopub.status.busy": "2024-10-24T00:49:29.565240Z",
     "iopub.status.idle": "2024-10-24T00:49:29.583310Z",
     "shell.execute_reply": "2024-10-24T00:49:29.582531Z",
     "shell.execute_reply.started": "2024-10-24T00:49:29.565605Z"
    },
    "trusted": true
   },
   "outputs": [],
   "source": [
    "import torch\n",
    "import torch.nn as nn\n",
    "import torch.optim as optim\n",
    "import networkx as nx\n",
    "from torch_geometric.utils import from_networkx\n",
    "\n",
    "# Example function to calculate similarity between features and assign weights\n",
    "def calculate_edge_weights(hyperedges, node_features, similarity_fn=nn.CosineSimilarity(dim=1)):\n",
    "    edge_weights = []\n",
    "    for edge in hyperedges:\n",
    "        edge_weight = 0\n",
    "        for i in range(len(edge)):\n",
    "            for j in range(i + 1, len(edge)):\n",
    "                node_i = torch.tensor(node_features[edge[i]])\n",
    "                node_j = torch.tensor(node_features[edge[j]])\n",
    "                # Calculate similarity (e.g., cosine similarity)\n",
    "                similarity = similarity_fn(node_i.unsqueeze(0), node_j.unsqueeze(0)).item()\n",
    "                edge_weight += similarity\n",
    "        edge_weights.append(edge_weight)\n",
    "    return edge_weights\n",
    "\n",
    "# Create a weighted hypergraph from hyperedges\n",
    "def build_weighted_hypergraph(hyperedges, edge_weights):\n",
    "    H = nx.Graph()\n",
    "    for edge, weight in zip(hyperedges, edge_weights):\n",
    "        for i in range(len(edge)):\n",
    "            for j in range(i + 1, len(edge)):\n",
    "                H.add_edge(edge[i], edge[j], weight=weight)\n",
    "    return H\n",
    "\n",
    "# Example of dynamically updating edge weights during training\n",
    "def update_edge_weights(hyperedges, node_features, model, optimizer):\n",
    "    optimizer.zero_grad()\n",
    "    \n",
    "    # Calculate new weights based on current node features\n",
    "    new_weights = calculate_edge_weights(hyperedges, node_features)\n",
    "    \n",
    "    # Rebuild hypergraph with new weights\n",
    "    updated_hypergraph = build_weighted_hypergraph(hyperedges, new_weights)\n",
    "    \n",
    "    # Convert to PyTorch Geometric format and use in the model\n",
    "    graph_data = from_networkx(updated_hypergraph)\n",
    "    \n",
    "    # Forward pass through the model\n",
    "    output = model(graph_data)\n",
    "    \n",
    "    # Assume we have a loss to minimize\n",
    "    loss = some_loss_fn(output, labels)\n",
    "    loss.backward()\n",
    "    \n",
    "    optimizer.step()\n",
    "    return updated_hypergraph\n"
   ]
  },
  {
   "cell_type": "code",
   "execution_count": 7,
   "metadata": {
    "execution": {
     "iopub.execute_input": "2024-10-24T00:49:29.585146Z",
     "iopub.status.busy": "2024-10-24T00:49:29.584793Z",
     "iopub.status.idle": "2024-10-24T00:49:29.604857Z",
     "shell.execute_reply": "2024-10-24T00:49:29.603843Z",
     "shell.execute_reply.started": "2024-10-24T00:49:29.585112Z"
    },
    "trusted": true
   },
   "outputs": [],
   "source": [
    "import torch\n",
    "import torch.nn as nn\n",
    "import torch.nn.functional as F\n",
    "\n",
    "class DualTrackHGNN(nn.Module):\n",
    "    def __init__(self, cnn_feature_size, hgnn_in_channels, hidden_channels, out_channels, projection_size, hgnn_out_channels):\n",
    "        super(DualTrackHGNN, self).__init__()\n",
    "\n",
    "        # CNN Branch\n",
    "        self.downsampling = nn.Sequential(\n",
    "            nn.Conv2d(3, 16, kernel_size=3, padding=1),\n",
    "            nn.LeakyReLU(negative_slope=0.01),\n",
    "            nn.MaxPool2d(2),\n",
    "            nn.Conv2d(16, 32, kernel_size=3, padding=1),\n",
    "            nn.LeakyReLU(negative_slope=0.01),\n",
    "            nn.MaxPool2d(2),\n",
    "            nn.Conv2d(32, 64, kernel_size=3, padding=1),\n",
    "            nn.LeakyReLU(negative_slope=0.01),\n",
    "            nn.MaxPool2d(2),\n",
    "            nn.Conv2d(64, 128, kernel_size=3, padding=1),\n",
    "            nn.LeakyReLU(negative_slope=0.01),\n",
    "            nn.MaxPool2d(2),\n",
    "        )\n",
    "\n",
    "        # Bottleneck Layer\n",
    "        self.bottleneck = nn.Sequential(\n",
    "            nn.Conv2d(128, 64, kernel_size=1),  \n",
    "            nn.LeakyReLU(negative_slope=0.01),\n",
    "            nn.Conv2d(64, 128, kernel_size=3, padding=1),  \n",
    "            nn.LeakyReLU(negative_slope=0.01),\n",
    "        )\n",
    "\n",
    "        # Adjust the CNN feature size to match the output after flattening\n",
    "        self.cnn_fc = nn.Linear(128 * 16 * 16, 128)  # Assuming input size is 256x256 after pooling\n",
    "\n",
    "        # Upsampling Layer\n",
    "        self.upsampling = nn.Sequential(\n",
    "            nn.ConvTranspose2d(128, 64, kernel_size=2, stride=2),\n",
    "            nn.LeakyReLU(negative_slope=0.01),\n",
    "            nn.ConvTranspose2d(64, 32, kernel_size=2, stride=2),\n",
    "            nn.LeakyReLU(negative_slope=0.01),\n",
    "            nn.ConvTranspose2d(32, 16, kernel_size=2, stride=2),\n",
    "            nn.LeakyReLU(negative_slope=0.01),\n",
    "            nn.ConvTranspose2d(16, 3, kernel_size=2, stride=2),\n",
    "            nn.Sigmoid(),\n",
    "        )\n",
    "\n",
    "        # HGNN Branch\n",
    "        self.hgcn1 = nn.Linear(hgnn_in_channels, out_channels)\n",
    "        self.hgcn2 = nn.Linear(out_channels, hgnn_out_channels)  # Adjust to provide a correct output size\n",
    "        self.hgcn_dropout = nn.Dropout(0.5)\n",
    "\n",
    "        # Projection layers to match sizes before concatenation\n",
    "        self.feature_projection_cnn = nn.Linear(128, projection_size)  # Adjusting based on CNN output size\n",
    "        self.feature_projection_hgnn = nn.Linear(hgnn_out_channels, projection_size)  # Using hgnn_out_channels\n",
    "\n",
    "        # Attention Mechanism\n",
    "        self.attention_fc = nn.Linear(projection_size * 2, projection_size)\n",
    "\n",
    "        # Final Fully Connected Layer\n",
    "        self.fc = nn.Linear(projection_size, 3)\n",
    "\n",
    "    def forward(self, image: torch.Tensor, graph_features: torch.Tensor, edge_weights: torch.Tensor) -> torch.Tensor:\n",
    "        # CNN Branch\n",
    "        x = self.downsampling(image)\n",
    "        x = self.bottleneck(x)  \n",
    "        cnn_features = x.view(x.size(0), -1)  # Flatten for fully connected layer\n",
    "        cnn_features = self.cnn_fc(cnn_features)  # Fully connected layer\n",
    "\n",
    "        # Upsample\n",
    "        x = self.upsampling(x)  \n",
    "\n",
    "        # HGNN Branch\n",
    "        hgnn_features = F.leaky_relu(self.hgcn1(graph_features), negative_slope=0.01)\n",
    "        hgnn_features = self.hgcn_dropout(hgnn_features)\n",
    "        hgnn_features = self.hgcn2(hgnn_features)\n",
    "\n",
    "        # Ensure feature dimensions match before combining\n",
    "        cnn_features = self.feature_projection_cnn(cnn_features)  # Project CNN features\n",
    "        hgnn_features = self.feature_projection_hgnn(hgnn_features)  # Project HGNN features\n",
    "        \n",
    "        # Combine CNN and HGNN features with attention\n",
    "        combined_features = torch.cat([cnn_features, hgnn_features], dim=1)\n",
    "        attention_weights = torch.sigmoid(self.attention_fc(combined_features))\n",
    "        combined_features = attention_weights * cnn_features + (1 - attention_weights) * hgnn_features\n",
    "        \n",
    "        # Final Output\n",
    "        output = self.fc(combined_features)\n",
    "        return output\n"
   ]
  },
  {
   "cell_type": "code",
   "execution_count": 8,
   "metadata": {
    "execution": {
     "iopub.execute_input": "2024-10-24T00:49:29.608436Z",
     "iopub.status.busy": "2024-10-24T00:49:29.608041Z",
     "iopub.status.idle": "2024-10-24T00:49:29.924087Z",
     "shell.execute_reply": "2024-10-24T00:49:29.923178Z",
     "shell.execute_reply.started": "2024-10-24T00:49:29.608402Z"
    },
    "trusted": true
   },
   "outputs": [],
   "source": [
    "\n",
    "import torch\n",
    "\n",
    "# Check if CUDA is available and use it, otherwise fallback to CPU\n",
    "device = torch.device(\"cuda\" if torch.cuda.is_available() else \"cpu\")\n",
    "\n",
    "# Define the projection size\n",
    "projection_size = 128  # Adjust based on your architecture\n",
    "\n",
    "# Model initialization\n",
    "cnn_feature_size = 256  # Adjust based on your design (not used in the current model)\n",
    "hgnn_in_channels = 128    # Adjust based on your design\n",
    "hidden_channels = 128     # Adjust based on your design (not used in the current model)\n",
    "num_classes = len(dataset.classes)  # Number of output classes\n",
    "\n",
    "# Initialize the model\n",
    "model = DualTrackHGNN(\n",
    "    cnn_feature_size=cnn_feature_size,  # This is not used directly in the model\n",
    "    hgnn_in_channels=hgnn_in_channels,\n",
    "    hidden_channels=hidden_channels,  # This is not used directly in the model\n",
    "    out_channels=num_classes,\n",
    "    projection_size=projection_size,\n",
    "    hgnn_out_channels=128  # Adjust based on your design\n",
    ").to(device)\n"
   ]
  },
  {
   "cell_type": "code",
   "execution_count": 9,
   "metadata": {
    "execution": {
     "iopub.execute_input": "2024-10-24T00:49:29.925856Z",
     "iopub.status.busy": "2024-10-24T00:49:29.925429Z",
     "iopub.status.idle": "2024-10-24T00:49:29.931797Z",
     "shell.execute_reply": "2024-10-24T00:49:29.930834Z",
     "shell.execute_reply.started": "2024-10-24T00:49:29.925808Z"
    },
    "trusted": true
   },
   "outputs": [
    {
     "name": "stdout",
     "output_type": "stream",
     "text": [
      "DualTrackHGNN(\n",
      "  (downsampling): Sequential(\n",
      "    (0): Conv2d(3, 16, kernel_size=(3, 3), stride=(1, 1), padding=(1, 1))\n",
      "    (1): LeakyReLU(negative_slope=0.01)\n",
      "    (2): MaxPool2d(kernel_size=2, stride=2, padding=0, dilation=1, ceil_mode=False)\n",
      "    (3): Conv2d(16, 32, kernel_size=(3, 3), stride=(1, 1), padding=(1, 1))\n",
      "    (4): LeakyReLU(negative_slope=0.01)\n",
      "    (5): MaxPool2d(kernel_size=2, stride=2, padding=0, dilation=1, ceil_mode=False)\n",
      "    (6): Conv2d(32, 64, kernel_size=(3, 3), stride=(1, 1), padding=(1, 1))\n",
      "    (7): LeakyReLU(negative_slope=0.01)\n",
      "    (8): MaxPool2d(kernel_size=2, stride=2, padding=0, dilation=1, ceil_mode=False)\n",
      "    (9): Conv2d(64, 128, kernel_size=(3, 3), stride=(1, 1), padding=(1, 1))\n",
      "    (10): LeakyReLU(negative_slope=0.01)\n",
      "    (11): MaxPool2d(kernel_size=2, stride=2, padding=0, dilation=1, ceil_mode=False)\n",
      "  )\n",
      "  (bottleneck): Sequential(\n",
      "    (0): Conv2d(128, 64, kernel_size=(1, 1), stride=(1, 1))\n",
      "    (1): LeakyReLU(negative_slope=0.01)\n",
      "    (2): Conv2d(64, 128, kernel_size=(3, 3), stride=(1, 1), padding=(1, 1))\n",
      "    (3): LeakyReLU(negative_slope=0.01)\n",
      "  )\n",
      "  (cnn_fc): Linear(in_features=32768, out_features=128, bias=True)\n",
      "  (upsampling): Sequential(\n",
      "    (0): ConvTranspose2d(128, 64, kernel_size=(2, 2), stride=(2, 2))\n",
      "    (1): LeakyReLU(negative_slope=0.01)\n",
      "    (2): ConvTranspose2d(64, 32, kernel_size=(2, 2), stride=(2, 2))\n",
      "    (3): LeakyReLU(negative_slope=0.01)\n",
      "    (4): ConvTranspose2d(32, 16, kernel_size=(2, 2), stride=(2, 2))\n",
      "    (5): LeakyReLU(negative_slope=0.01)\n",
      "    (6): ConvTranspose2d(16, 3, kernel_size=(2, 2), stride=(2, 2))\n",
      "    (7): Sigmoid()\n",
      "  )\n",
      "  (hgcn1): Linear(in_features=128, out_features=3, bias=True)\n",
      "  (hgcn2): Linear(in_features=3, out_features=128, bias=True)\n",
      "  (hgcn_dropout): Dropout(p=0.5, inplace=False)\n",
      "  (feature_projection_cnn): Linear(in_features=128, out_features=128, bias=True)\n",
      "  (feature_projection_hgnn): Linear(in_features=128, out_features=128, bias=True)\n",
      "  (attention_fc): Linear(in_features=256, out_features=128, bias=True)\n",
      "  (fc): Linear(in_features=128, out_features=3, bias=True)\n",
      ")\n"
     ]
    }
   ],
   "source": [
    "print(model)"
   ]
  },
  {
   "cell_type": "code",
   "execution_count": 10,
   "metadata": {
    "execution": {
     "iopub.execute_input": "2024-10-24T00:49:29.935721Z",
     "iopub.status.busy": "2024-10-24T00:49:29.935243Z",
     "iopub.status.idle": "2024-10-24T00:49:29.958303Z",
     "shell.execute_reply": "2024-10-24T00:49:29.957222Z",
     "shell.execute_reply.started": "2024-10-24T00:49:29.935668Z"
    },
    "trusted": true
   },
   "outputs": [],
   "source": [
    "from tqdm import tqdm  # For progress bars\n",
    "\n",
    "def train_model_with_dynamic_hypergraph(model, train_loader, val_loader, num_epochs=50, patience=5, hgnn_in_channels=128, top_k=5):\n",
    "    criterion = nn.CrossEntropyLoss()\n",
    "    optimizer = optim.Adam(model.parameters(), lr=0.001, weight_decay=1e-4)\n",
    "    scheduler = optim.lr_scheduler.ReduceLROnPlateau(optimizer, mode='min', factor=0.1, patience=3, verbose=True)\n",
    "\n",
    "    train_losses, val_losses = [], []\n",
    "    train_accuracies, val_accuracies = [], []\n",
    "\n",
    "    best_val_loss = np.inf\n",
    "    patience_counter = 0\n",
    "    best_model = None\n",
    "\n",
    "    for epoch in range(num_epochs):\n",
    "        model.train()\n",
    "        running_loss, correct, total = 0.0, 0, 0\n",
    "\n",
    "        # Training loop with tqdm progress bar\n",
    "        with tqdm(train_loader, desc=f\"Epoch {epoch+1}/{num_epochs}\", unit=\"batch\") as tepoch:\n",
    "            for batch_idx, (images, labels) in enumerate(tepoch):\n",
    "                images, labels = images.to(device), labels.to(device)\n",
    "                \n",
    "                # Create hyperedges and calculate edge weights\n",
    "                hyperedges = create_hyperedges(images.size(0), top_k=top_k)  # Function to create hyperedges\n",
    "                node_features = torch.rand((images.size(0), hgnn_in_channels)).to(device)  # Random node features\n",
    "                edge_weights = calculate_edge_weights(hyperedges, node_features)  # Calculate edge weights\n",
    "                \n",
    "                optimizer.zero_grad()\n",
    "                # Forward pass through the model using CNN, hypergraph, and edge weights\n",
    "                outputs = model(images, node_features, torch.tensor(edge_weights).to(device))\n",
    "                \n",
    "                # Compute loss and backpropagate\n",
    "                loss = criterion(outputs, labels)\n",
    "                loss.backward()\n",
    "                optimizer.step()\n",
    "\n",
    "                running_loss += loss.item()\n",
    "                _, predicted = outputs.max(1)\n",
    "                total += labels.size(0)\n",
    "                correct += predicted.eq(labels).sum().item()\n",
    "                \n",
    "                # Update tqdm with the loss and accuracy\n",
    "                tepoch.set_postfix(loss=loss.item(), accuracy=100. * correct / total)\n",
    "\n",
    "        train_loss = running_loss / len(train_loader)\n",
    "        train_acc = 100. * correct / total\n",
    "        train_losses.append(train_loss)\n",
    "        train_accuracies.append(train_acc)\n",
    "        print(f\"Epoch {epoch+1}/{num_epochs}, Train Loss: {train_loss:.4f}, Train Accuracy: {train_acc:.2f}%\")\n",
    "\n",
    "        # Validation loop\n",
    "        model.eval()\n",
    "        val_running_loss, val_correct, val_total = 0.0, 0, 0\n",
    "        with tqdm(val_loader, desc=f\"Validating Epoch {epoch+1}/{num_epochs}\", unit=\"batch\") as vepoch:\n",
    "            with torch.no_grad():\n",
    "                for val_images, val_labels in vepoch:\n",
    "                    val_images, val_labels = val_images.to(device), val_labels.to(device)\n",
    "                    val_node_features = torch.rand((val_images.size(0), hgnn_in_channels)).to(device)\n",
    "                    val_hyperedges = create_hyperedges(val_images.size(0), top_k=top_k)\n",
    "                    val_edge_weights = calculate_edge_weights(val_hyperedges, val_node_features)\n",
    "\n",
    "                    val_outputs = model(val_images, val_node_features, torch.tensor(val_edge_weights).to(device))\n",
    "                    val_loss = criterion(val_outputs, val_labels)\n",
    "\n",
    "                    val_running_loss += val_loss.item()\n",
    "                    _, val_predicted = val_outputs.max(1)\n",
    "                    val_total += val_labels.size(0)\n",
    "                    val_correct += val_predicted.eq(val_labels).sum().item()\n",
    "\n",
    "                    # Update tqdm for validation loss and accuracy\n",
    "                    vepoch.set_postfix(val_loss=val_loss.item(), val_accuracy=100. * val_correct / val_total)\n",
    "\n",
    "        val_loss = val_running_loss / len(val_loader)\n",
    "        val_acc = 100. * val_correct / val_total\n",
    "        val_losses.append(val_loss)\n",
    "        val_accuracies.append(val_acc)\n",
    "        print(f\"Validation Loss: {val_loss:.4f}, Validation Accuracy: {val_acc:.2f}%\")\n",
    "\n",
    "        # Update learning rate\n",
    "        scheduler.step(val_loss)\n",
    "\n",
    "        # Early stopping\n",
    "        if val_loss < best_val_loss:\n",
    "            best_val_loss = val_loss\n",
    "            best_model = model.state_dict()\n",
    "            patience_counter = 0\n",
    "        else:\n",
    "            patience_counter += 1\n",
    "\n",
    "        if patience_counter >= patience:\n",
    "            print(\"Early stopping triggered.\")\n",
    "            model.load_state_dict(best_model)\n",
    "            break\n",
    "\n",
    "    return train_losses, val_losses, train_accuracies, val_accuracies\n"
   ]
  },
  {
   "cell_type": "code",
   "execution_count": 11,
   "metadata": {
    "execution": {
     "iopub.execute_input": "2024-10-24T00:49:29.959942Z",
     "iopub.status.busy": "2024-10-24T00:49:29.959535Z",
     "iopub.status.idle": "2024-10-24T00:49:29.971023Z",
     "shell.execute_reply": "2024-10-24T00:49:29.970239Z",
     "shell.execute_reply.started": "2024-10-24T00:49:29.959897Z"
    },
    "trusted": true
   },
   "outputs": [],
   "source": [
    "import matplotlib.pyplot as plt\n",
    "def plot_metrics(train_losses, val_losses, train_accuracies, val_accuracies):\n",
    "    epochs = range(1, len(train_losses) + 1)\n",
    "    \n",
    "    # Plot Losses\n",
    "    plt.figure(figsize=(12, 5))\n",
    "    \n",
    "    plt.subplot(1, 2, 1)\n",
    "    plt.plot(epochs, train_losses, label='Training Loss', color='blue')\n",
    "    plt.plot(epochs, val_losses, label='Validation Loss', color='orange')\n",
    "    plt.title('Training and Validation Loss')\n",
    "    plt.xlabel('Epochs')\n",
    "    plt.ylabel('Loss')\n",
    "    plt.legend()\n",
    "    \n",
    "    # Plot Accuracies\n",
    "    plt.subplot(1, 2, 2)\n",
    "    plt.plot(epochs, train_accuracies, label='Training Accuracy', color='green')\n",
    "    plt.plot(epochs, val_accuracies, label='Validation Accuracy', color='red')\n",
    "    plt.title('Training and Validation Accuracy')\n",
    "    plt.xlabel('Epochs')\n",
    "    plt.ylabel('Accuracy (%)')\n",
    "    plt.legend()\n",
    "    \n",
    "    plt.tight_layout()\n",
    "    plt.show()\n",
    "    "
   ]
  },
  {
   "cell_type": "code",
   "execution_count": 12,
   "metadata": {
    "execution": {
     "iopub.execute_input": "2024-10-24T00:49:29.972481Z",
     "iopub.status.busy": "2024-10-24T00:49:29.972119Z",
     "iopub.status.idle": "2024-10-24T02:48:38.860493Z",
     "shell.execute_reply": "2024-10-24T02:48:38.859507Z",
     "shell.execute_reply.started": "2024-10-24T00:49:29.972447Z"
    },
    "trusted": true
   },
   "outputs": [
    {
     "name": "stderr",
     "output_type": "stream",
     "text": [
      "/opt/conda/lib/python3.10/site-packages/torch/optim/lr_scheduler.py:60: UserWarning: The verbose parameter is deprecated. Please use get_last_lr() to access the learning rate.\n",
      "  warnings.warn(\n",
      "Epoch 1/30:   0%|          | 0/657 [00:00<?, ?batch/s]/tmp/ipykernel_30/1070048509.py:14: UserWarning: To copy construct from a tensor, it is recommended to use sourceTensor.clone().detach() or sourceTensor.clone().detach().requires_grad_(True), rather than torch.tensor(sourceTensor).\n",
      "  node_i = torch.tensor(node_features[edge[i]])\n",
      "/tmp/ipykernel_30/1070048509.py:15: UserWarning: To copy construct from a tensor, it is recommended to use sourceTensor.clone().detach() or sourceTensor.clone().detach().requires_grad_(True), rather than torch.tensor(sourceTensor).\n",
      "  node_j = torch.tensor(node_features[edge[j]])\n",
      "Epoch 1/30: 100%|██████████| 657/657 [04:02<00:00,  2.70batch/s, accuracy=75, loss=0.136]  \n"
     ]
    },
    {
     "name": "stdout",
     "output_type": "stream",
     "text": [
      "Epoch 1/30, Train Loss: 0.5278, Train Accuracy: 74.95%\n"
     ]
    },
    {
     "name": "stderr",
     "output_type": "stream",
     "text": [
      "Validating Epoch 1/30: 100%|██████████| 282/282 [01:29<00:00,  3.14batch/s, val_accuracy=88.2, val_loss=0.23] \n"
     ]
    },
    {
     "name": "stdout",
     "output_type": "stream",
     "text": [
      "Validation Loss: 0.3163, Validation Accuracy: 88.22%\n"
     ]
    },
    {
     "name": "stderr",
     "output_type": "stream",
     "text": [
      "Epoch 2/30: 100%|██████████| 657/657 [02:51<00:00,  3.83batch/s, accuracy=87.9, loss=0.0577]\n"
     ]
    },
    {
     "name": "stdout",
     "output_type": "stream",
     "text": [
      "Epoch 2/30, Train Loss: 0.3060, Train Accuracy: 87.93%\n"
     ]
    },
    {
     "name": "stderr",
     "output_type": "stream",
     "text": [
      "Validating Epoch 2/30: 100%|██████████| 282/282 [01:05<00:00,  4.33batch/s, val_accuracy=89.3, val_loss=0.123] \n"
     ]
    },
    {
     "name": "stdout",
     "output_type": "stream",
     "text": [
      "Validation Loss: 0.2805, Validation Accuracy: 89.29%\n"
     ]
    },
    {
     "name": "stderr",
     "output_type": "stream",
     "text": [
      "Epoch 3/30: 100%|██████████| 657/657 [02:45<00:00,  3.96batch/s, accuracy=89.4, loss=0.222] \n"
     ]
    },
    {
     "name": "stdout",
     "output_type": "stream",
     "text": [
      "Epoch 3/30, Train Loss: 0.2573, Train Accuracy: 89.42%\n"
     ]
    },
    {
     "name": "stderr",
     "output_type": "stream",
     "text": [
      "Validating Epoch 3/30: 100%|██████████| 282/282 [01:03<00:00,  4.46batch/s, val_accuracy=89.3, val_loss=0.327] \n"
     ]
    },
    {
     "name": "stdout",
     "output_type": "stream",
     "text": [
      "Validation Loss: 0.2397, Validation Accuracy: 89.29%\n"
     ]
    },
    {
     "name": "stderr",
     "output_type": "stream",
     "text": [
      "Epoch 4/30: 100%|██████████| 657/657 [02:47<00:00,  3.92batch/s, accuracy=91.1, loss=0.0124]\n"
     ]
    },
    {
     "name": "stdout",
     "output_type": "stream",
     "text": [
      "Epoch 4/30, Train Loss: 0.2212, Train Accuracy: 91.12%\n"
     ]
    },
    {
     "name": "stderr",
     "output_type": "stream",
     "text": [
      "Validating Epoch 4/30: 100%|██████████| 282/282 [01:01<00:00,  4.61batch/s, val_accuracy=92.1, val_loss=0.159]  \n"
     ]
    },
    {
     "name": "stdout",
     "output_type": "stream",
     "text": [
      "Validation Loss: 0.1842, Validation Accuracy: 92.07%\n"
     ]
    },
    {
     "name": "stderr",
     "output_type": "stream",
     "text": [
      "Epoch 5/30: 100%|██████████| 657/657 [02:45<00:00,  3.97batch/s, accuracy=92.1, loss=0.0893] \n"
     ]
    },
    {
     "name": "stdout",
     "output_type": "stream",
     "text": [
      "Epoch 5/30, Train Loss: 0.1987, Train Accuracy: 92.08%\n"
     ]
    },
    {
     "name": "stderr",
     "output_type": "stream",
     "text": [
      "Validating Epoch 5/30: 100%|██████████| 282/282 [01:04<00:00,  4.40batch/s, val_accuracy=91.6, val_loss=0.0585]\n"
     ]
    },
    {
     "name": "stdout",
     "output_type": "stream",
     "text": [
      "Validation Loss: 0.2159, Validation Accuracy: 91.56%\n"
     ]
    },
    {
     "name": "stderr",
     "output_type": "stream",
     "text": [
      "Epoch 6/30: 100%|██████████| 657/657 [02:48<00:00,  3.89batch/s, accuracy=92.7, loss=0.000279]\n"
     ]
    },
    {
     "name": "stdout",
     "output_type": "stream",
     "text": [
      "Epoch 6/30, Train Loss: 0.1796, Train Accuracy: 92.72%\n"
     ]
    },
    {
     "name": "stderr",
     "output_type": "stream",
     "text": [
      "Validating Epoch 6/30: 100%|██████████| 282/282 [01:05<00:00,  4.29batch/s, val_accuracy=94.4, val_loss=0.0579] \n"
     ]
    },
    {
     "name": "stdout",
     "output_type": "stream",
     "text": [
      "Validation Loss: 0.1606, Validation Accuracy: 94.38%\n"
     ]
    },
    {
     "name": "stderr",
     "output_type": "stream",
     "text": [
      "Epoch 7/30: 100%|██████████| 657/657 [02:51<00:00,  3.83batch/s, accuracy=93.8, loss=0.0155] \n"
     ]
    },
    {
     "name": "stdout",
     "output_type": "stream",
     "text": [
      "Epoch 7/30, Train Loss: 0.1555, Train Accuracy: 93.78%\n"
     ]
    },
    {
     "name": "stderr",
     "output_type": "stream",
     "text": [
      "Validating Epoch 7/30: 100%|██████████| 282/282 [01:04<00:00,  4.35batch/s, val_accuracy=92.4, val_loss=0.108]  \n"
     ]
    },
    {
     "name": "stdout",
     "output_type": "stream",
     "text": [
      "Validation Loss: 0.1884, Validation Accuracy: 92.38%\n"
     ]
    },
    {
     "name": "stderr",
     "output_type": "stream",
     "text": [
      "Epoch 8/30: 100%|██████████| 657/657 [02:43<00:00,  4.02batch/s, accuracy=93.7, loss=0.0102] \n"
     ]
    },
    {
     "name": "stdout",
     "output_type": "stream",
     "text": [
      "Epoch 8/30, Train Loss: 0.1559, Train Accuracy: 93.74%\n"
     ]
    },
    {
     "name": "stderr",
     "output_type": "stream",
     "text": [
      "Validating Epoch 8/30: 100%|██████████| 282/282 [01:02<00:00,  4.53batch/s, val_accuracy=94.4, val_loss=0.0334] \n"
     ]
    },
    {
     "name": "stdout",
     "output_type": "stream",
     "text": [
      "Validation Loss: 0.1620, Validation Accuracy: 94.44%\n"
     ]
    },
    {
     "name": "stderr",
     "output_type": "stream",
     "text": [
      "Epoch 9/30: 100%|██████████| 657/657 [02:47<00:00,  3.93batch/s, accuracy=94.4, loss=0.00714]\n"
     ]
    },
    {
     "name": "stdout",
     "output_type": "stream",
     "text": [
      "Epoch 9/30, Train Loss: 0.1436, Train Accuracy: 94.39%\n"
     ]
    },
    {
     "name": "stderr",
     "output_type": "stream",
     "text": [
      "Validating Epoch 9/30: 100%|██████████| 282/282 [01:01<00:00,  4.56batch/s, val_accuracy=92.8, val_loss=0.0058] \n"
     ]
    },
    {
     "name": "stdout",
     "output_type": "stream",
     "text": [
      "Validation Loss: 0.2040, Validation Accuracy: 92.80%\n"
     ]
    },
    {
     "name": "stderr",
     "output_type": "stream",
     "text": [
      "Epoch 10/30: 100%|██████████| 657/657 [02:43<00:00,  4.01batch/s, accuracy=94.5, loss=0.019]  \n"
     ]
    },
    {
     "name": "stdout",
     "output_type": "stream",
     "text": [
      "Epoch 10/30, Train Loss: 0.1460, Train Accuracy: 94.46%\n"
     ]
    },
    {
     "name": "stderr",
     "output_type": "stream",
     "text": [
      "Validating Epoch 10/30: 100%|██████████| 282/282 [01:00<00:00,  4.67batch/s, val_accuracy=95.9, val_loss=0.0198] \n"
     ]
    },
    {
     "name": "stdout",
     "output_type": "stream",
     "text": [
      "Validation Loss: 0.1122, Validation Accuracy: 95.89%\n"
     ]
    },
    {
     "name": "stderr",
     "output_type": "stream",
     "text": [
      "Epoch 11/30: 100%|██████████| 657/657 [02:51<00:00,  3.83batch/s, accuracy=95.4, loss=0.0974] \n"
     ]
    },
    {
     "name": "stdout",
     "output_type": "stream",
     "text": [
      "Epoch 11/30, Train Loss: 0.1182, Train Accuracy: 95.35%\n"
     ]
    },
    {
     "name": "stderr",
     "output_type": "stream",
     "text": [
      "Validating Epoch 11/30: 100%|██████████| 282/282 [01:05<00:00,  4.33batch/s, val_accuracy=95.9, val_loss=0.0135] \n"
     ]
    },
    {
     "name": "stdout",
     "output_type": "stream",
     "text": [
      "Validation Loss: 0.1054, Validation Accuracy: 95.91%\n"
     ]
    },
    {
     "name": "stderr",
     "output_type": "stream",
     "text": [
      "Epoch 12/30: 100%|██████████| 657/657 [02:55<00:00,  3.75batch/s, accuracy=95.6, loss=0.0203]  \n"
     ]
    },
    {
     "name": "stdout",
     "output_type": "stream",
     "text": [
      "Epoch 12/30, Train Loss: 0.1143, Train Accuracy: 95.59%\n"
     ]
    },
    {
     "name": "stderr",
     "output_type": "stream",
     "text": [
      "Validating Epoch 12/30: 100%|██████████| 282/282 [01:04<00:00,  4.34batch/s, val_accuracy=95.8, val_loss=0.0145] \n"
     ]
    },
    {
     "name": "stdout",
     "output_type": "stream",
     "text": [
      "Validation Loss: 0.1028, Validation Accuracy: 95.80%\n"
     ]
    },
    {
     "name": "stderr",
     "output_type": "stream",
     "text": [
      "Epoch 13/30: 100%|██████████| 657/657 [02:58<00:00,  3.69batch/s, accuracy=95.5, loss=0.0255]  \n"
     ]
    },
    {
     "name": "stdout",
     "output_type": "stream",
     "text": [
      "Epoch 13/30, Train Loss: 0.1097, Train Accuracy: 95.48%\n"
     ]
    },
    {
     "name": "stderr",
     "output_type": "stream",
     "text": [
      "Validating Epoch 13/30: 100%|██████████| 282/282 [01:06<00:00,  4.22batch/s, val_accuracy=96.4, val_loss=0.0347] \n"
     ]
    },
    {
     "name": "stdout",
     "output_type": "stream",
     "text": [
      "Validation Loss: 0.0972, Validation Accuracy: 96.44%\n"
     ]
    },
    {
     "name": "stderr",
     "output_type": "stream",
     "text": [
      "Epoch 14/30: 100%|██████████| 657/657 [02:51<00:00,  3.83batch/s, accuracy=95.4, loss=0.45]    \n"
     ]
    },
    {
     "name": "stdout",
     "output_type": "stream",
     "text": [
      "Epoch 14/30, Train Loss: 0.1231, Train Accuracy: 95.36%\n"
     ]
    },
    {
     "name": "stderr",
     "output_type": "stream",
     "text": [
      "Validating Epoch 14/30: 100%|██████████| 282/282 [01:05<00:00,  4.33batch/s, val_accuracy=94.7, val_loss=0.0257] \n"
     ]
    },
    {
     "name": "stdout",
     "output_type": "stream",
     "text": [
      "Validation Loss: 0.1363, Validation Accuracy: 94.69%\n"
     ]
    },
    {
     "name": "stderr",
     "output_type": "stream",
     "text": [
      "Epoch 15/30: 100%|██████████| 657/657 [02:50<00:00,  3.85batch/s, accuracy=96.4, loss=0.0367]  \n"
     ]
    },
    {
     "name": "stdout",
     "output_type": "stream",
     "text": [
      "Epoch 15/30, Train Loss: 0.0955, Train Accuracy: 96.41%\n"
     ]
    },
    {
     "name": "stderr",
     "output_type": "stream",
     "text": [
      "Validating Epoch 15/30: 100%|██████████| 282/282 [01:04<00:00,  4.36batch/s, val_accuracy=96, val_loss=0.00959]   \n"
     ]
    },
    {
     "name": "stdout",
     "output_type": "stream",
     "text": [
      "Validation Loss: 0.1095, Validation Accuracy: 96.02%\n"
     ]
    },
    {
     "name": "stderr",
     "output_type": "stream",
     "text": [
      "Epoch 16/30: 100%|██████████| 657/657 [02:54<00:00,  3.76batch/s, accuracy=96.2, loss=0.00122] \n"
     ]
    },
    {
     "name": "stdout",
     "output_type": "stream",
     "text": [
      "Epoch 16/30, Train Loss: 0.0989, Train Accuracy: 96.24%\n"
     ]
    },
    {
     "name": "stderr",
     "output_type": "stream",
     "text": [
      "Validating Epoch 16/30: 100%|██████████| 282/282 [01:05<00:00,  4.29batch/s, val_accuracy=94.5, val_loss=0.0251] \n"
     ]
    },
    {
     "name": "stdout",
     "output_type": "stream",
     "text": [
      "Validation Loss: 0.1324, Validation Accuracy: 94.53%\n"
     ]
    },
    {
     "name": "stderr",
     "output_type": "stream",
     "text": [
      "Epoch 17/30: 100%|██████████| 657/657 [02:51<00:00,  3.83batch/s, accuracy=96.1, loss=0.0357]  \n"
     ]
    },
    {
     "name": "stdout",
     "output_type": "stream",
     "text": [
      "Epoch 17/30, Train Loss: 0.1051, Train Accuracy: 96.12%\n"
     ]
    },
    {
     "name": "stderr",
     "output_type": "stream",
     "text": [
      "Validating Epoch 17/30: 100%|██████████| 282/282 [01:04<00:00,  4.37batch/s, val_accuracy=95.8, val_loss=0.0127] \n"
     ]
    },
    {
     "name": "stdout",
     "output_type": "stream",
     "text": [
      "Validation Loss: 0.1115, Validation Accuracy: 95.78%\n"
     ]
    },
    {
     "name": "stderr",
     "output_type": "stream",
     "text": [
      "Epoch 18/30: 100%|██████████| 657/657 [02:51<00:00,  3.83batch/s, accuracy=97.5, loss=0.0142]  \n"
     ]
    },
    {
     "name": "stdout",
     "output_type": "stream",
     "text": [
      "Epoch 18/30, Train Loss: 0.0718, Train Accuracy: 97.46%\n"
     ]
    },
    {
     "name": "stderr",
     "output_type": "stream",
     "text": [
      "Validating Epoch 18/30: 100%|██████████| 282/282 [01:06<00:00,  4.23batch/s, val_accuracy=97.1, val_loss=0.00662]\n"
     ]
    },
    {
     "name": "stdout",
     "output_type": "stream",
     "text": [
      "Validation Loss: 0.0847, Validation Accuracy: 97.11%\n"
     ]
    },
    {
     "name": "stderr",
     "output_type": "stream",
     "text": [
      "Epoch 19/30: 100%|██████████| 657/657 [02:55<00:00,  3.75batch/s, accuracy=97.8, loss=0.0997]  \n"
     ]
    },
    {
     "name": "stdout",
     "output_type": "stream",
     "text": [
      "Epoch 19/30, Train Loss: 0.0600, Train Accuracy: 97.77%\n"
     ]
    },
    {
     "name": "stderr",
     "output_type": "stream",
     "text": [
      "Validating Epoch 19/30: 100%|██████████| 282/282 [01:05<00:00,  4.31batch/s, val_accuracy=97, val_loss=0.0261]   \n"
     ]
    },
    {
     "name": "stdout",
     "output_type": "stream",
     "text": [
      "Validation Loss: 0.0827, Validation Accuracy: 97.04%\n"
     ]
    },
    {
     "name": "stderr",
     "output_type": "stream",
     "text": [
      "Epoch 20/30: 100%|██████████| 657/657 [02:53<00:00,  3.79batch/s, accuracy=97.8, loss=0.00293] \n"
     ]
    },
    {
     "name": "stdout",
     "output_type": "stream",
     "text": [
      "Epoch 20/30, Train Loss: 0.0560, Train Accuracy: 97.84%\n"
     ]
    },
    {
     "name": "stderr",
     "output_type": "stream",
     "text": [
      "Validating Epoch 20/30: 100%|██████████| 282/282 [01:04<00:00,  4.35batch/s, val_accuracy=97, val_loss=0.00594]   \n"
     ]
    },
    {
     "name": "stdout",
     "output_type": "stream",
     "text": [
      "Validation Loss: 0.0779, Validation Accuracy: 96.98%\n"
     ]
    },
    {
     "name": "stderr",
     "output_type": "stream",
     "text": [
      "Epoch 21/30: 100%|██████████| 657/657 [02:49<00:00,  3.87batch/s, accuracy=98, loss=0.425]     \n"
     ]
    },
    {
     "name": "stdout",
     "output_type": "stream",
     "text": [
      "Epoch 21/30, Train Loss: 0.0515, Train Accuracy: 98.02%\n"
     ]
    },
    {
     "name": "stderr",
     "output_type": "stream",
     "text": [
      "Validating Epoch 21/30: 100%|██████████| 282/282 [01:10<00:00,  4.01batch/s, val_accuracy=97.4, val_loss=0.00675] \n"
     ]
    },
    {
     "name": "stdout",
     "output_type": "stream",
     "text": [
      "Validation Loss: 0.0755, Validation Accuracy: 97.42%\n"
     ]
    },
    {
     "name": "stderr",
     "output_type": "stream",
     "text": [
      "Epoch 22/30: 100%|██████████| 657/657 [03:00<00:00,  3.64batch/s, accuracy=98.2, loss=0.00455] \n"
     ]
    },
    {
     "name": "stdout",
     "output_type": "stream",
     "text": [
      "Epoch 22/30, Train Loss: 0.0469, Train Accuracy: 98.15%\n"
     ]
    },
    {
     "name": "stderr",
     "output_type": "stream",
     "text": [
      "Validating Epoch 22/30: 100%|██████████| 282/282 [01:06<00:00,  4.24batch/s, val_accuracy=96.8, val_loss=0.00503] \n"
     ]
    },
    {
     "name": "stdout",
     "output_type": "stream",
     "text": [
      "Validation Loss: 0.0929, Validation Accuracy: 96.76%\n"
     ]
    },
    {
     "name": "stderr",
     "output_type": "stream",
     "text": [
      "Epoch 23/30: 100%|██████████| 657/657 [02:57<00:00,  3.71batch/s, accuracy=98.2, loss=7.75e-7] \n"
     ]
    },
    {
     "name": "stdout",
     "output_type": "stream",
     "text": [
      "Epoch 23/30, Train Loss: 0.0460, Train Accuracy: 98.16%\n"
     ]
    },
    {
     "name": "stderr",
     "output_type": "stream",
     "text": [
      "Validating Epoch 23/30: 100%|██████████| 282/282 [01:19<00:00,  3.56batch/s, val_accuracy=97.6, val_loss=0.00646] \n"
     ]
    },
    {
     "name": "stdout",
     "output_type": "stream",
     "text": [
      "Validation Loss: 0.0765, Validation Accuracy: 97.60%\n"
     ]
    },
    {
     "name": "stderr",
     "output_type": "stream",
     "text": [
      "Epoch 24/30: 100%|██████████| 657/657 [03:02<00:00,  3.60batch/s, accuracy=98.4, loss=0.00889] \n"
     ]
    },
    {
     "name": "stdout",
     "output_type": "stream",
     "text": [
      "Epoch 24/30, Train Loss: 0.0422, Train Accuracy: 98.43%\n"
     ]
    },
    {
     "name": "stderr",
     "output_type": "stream",
     "text": [
      "Validating Epoch 24/30: 100%|██████████| 282/282 [01:01<00:00,  4.61batch/s, val_accuracy=97.6, val_loss=0.00547] \n"
     ]
    },
    {
     "name": "stdout",
     "output_type": "stream",
     "text": [
      "Validation Loss: 0.0745, Validation Accuracy: 97.62%\n"
     ]
    },
    {
     "name": "stderr",
     "output_type": "stream",
     "text": [
      "Epoch 25/30: 100%|██████████| 657/657 [02:42<00:00,  4.04batch/s, accuracy=98.6, loss=0.00109] \n"
     ]
    },
    {
     "name": "stdout",
     "output_type": "stream",
     "text": [
      "Epoch 25/30, Train Loss: 0.0383, Train Accuracy: 98.55%\n"
     ]
    },
    {
     "name": "stderr",
     "output_type": "stream",
     "text": [
      "Validating Epoch 25/30: 100%|██████████| 282/282 [01:01<00:00,  4.62batch/s, val_accuracy=97.2, val_loss=0.0369]  \n"
     ]
    },
    {
     "name": "stdout",
     "output_type": "stream",
     "text": [
      "Validation Loss: 0.0869, Validation Accuracy: 97.18%\n"
     ]
    },
    {
     "name": "stderr",
     "output_type": "stream",
     "text": [
      "Epoch 26/30: 100%|██████████| 657/657 [02:43<00:00,  4.02batch/s, accuracy=98.6, loss=0.00392] \n"
     ]
    },
    {
     "name": "stdout",
     "output_type": "stream",
     "text": [
      "Epoch 26/30, Train Loss: 0.0375, Train Accuracy: 98.56%\n"
     ]
    },
    {
     "name": "stderr",
     "output_type": "stream",
     "text": [
      "Validating Epoch 26/30: 100%|██████████| 282/282 [01:01<00:00,  4.60batch/s, val_accuracy=97.7, val_loss=0.00428] \n"
     ]
    },
    {
     "name": "stdout",
     "output_type": "stream",
     "text": [
      "Validation Loss: 0.0684, Validation Accuracy: 97.67%\n"
     ]
    },
    {
     "name": "stderr",
     "output_type": "stream",
     "text": [
      "Epoch 27/30: 100%|██████████| 657/657 [02:41<00:00,  4.06batch/s, accuracy=98.7, loss=8.18e-5] \n"
     ]
    },
    {
     "name": "stdout",
     "output_type": "stream",
     "text": [
      "Epoch 27/30, Train Loss: 0.0340, Train Accuracy: 98.73%\n"
     ]
    },
    {
     "name": "stderr",
     "output_type": "stream",
     "text": [
      "Validating Epoch 27/30: 100%|██████████| 282/282 [01:03<00:00,  4.47batch/s, val_accuracy=97.8, val_loss=0.0167]  \n"
     ]
    },
    {
     "name": "stdout",
     "output_type": "stream",
     "text": [
      "Validation Loss: 0.0659, Validation Accuracy: 97.82%\n"
     ]
    },
    {
     "name": "stderr",
     "output_type": "stream",
     "text": [
      "Epoch 28/30: 100%|██████████| 657/657 [02:43<00:00,  4.02batch/s, accuracy=99, loss=0.00773]   \n"
     ]
    },
    {
     "name": "stdout",
     "output_type": "stream",
     "text": [
      "Epoch 28/30, Train Loss: 0.0299, Train Accuracy: 99.02%\n"
     ]
    },
    {
     "name": "stderr",
     "output_type": "stream",
     "text": [
      "Validating Epoch 28/30: 100%|██████████| 282/282 [01:08<00:00,  4.10batch/s, val_accuracy=97.9, val_loss=0.00178] \n"
     ]
    },
    {
     "name": "stdout",
     "output_type": "stream",
     "text": [
      "Validation Loss: 0.0799, Validation Accuracy: 97.93%\n"
     ]
    },
    {
     "name": "stderr",
     "output_type": "stream",
     "text": [
      "Epoch 29/30: 100%|██████████| 657/657 [02:51<00:00,  3.83batch/s, accuracy=99, loss=2e-6]      \n"
     ]
    },
    {
     "name": "stdout",
     "output_type": "stream",
     "text": [
      "Epoch 29/30, Train Loss: 0.0277, Train Accuracy: 99.03%\n"
     ]
    },
    {
     "name": "stderr",
     "output_type": "stream",
     "text": [
      "Validating Epoch 29/30: 100%|██████████| 282/282 [01:03<00:00,  4.46batch/s, val_accuracy=97.8, val_loss=0.00378] \n"
     ]
    },
    {
     "name": "stdout",
     "output_type": "stream",
     "text": [
      "Validation Loss: 0.0845, Validation Accuracy: 97.76%\n"
     ]
    },
    {
     "name": "stderr",
     "output_type": "stream",
     "text": [
      "Epoch 30/30: 100%|██████████| 657/657 [02:44<00:00,  4.00batch/s, accuracy=99.1, loss=0.000562]\n"
     ]
    },
    {
     "name": "stdout",
     "output_type": "stream",
     "text": [
      "Epoch 30/30, Train Loss: 0.0272, Train Accuracy: 99.08%\n"
     ]
    },
    {
     "name": "stderr",
     "output_type": "stream",
     "text": [
      "Validating Epoch 30/30: 100%|██████████| 282/282 [01:03<00:00,  4.47batch/s, val_accuracy=97.5, val_loss=0.00148] "
     ]
    },
    {
     "name": "stdout",
     "output_type": "stream",
     "text": [
      "Validation Loss: 0.0762, Validation Accuracy: 97.53%\n"
     ]
    },
    {
     "name": "stderr",
     "output_type": "stream",
     "text": [
      "\n"
     ]
    }
   ],
   "source": [
    "# Train the model\n",
    "train_losses, val_losses, train_accuracies, val_accuracies = train_model_with_dynamic_hypergraph(\n",
    "     model,\n",
    "     train_loader,\n",
    "     val_loader,\n",
    "     num_epochs=30,\n",
    "     patience=5 \n",
    ")"
   ]
  },
  {
   "cell_type": "code",
   "execution_count": 13,
   "metadata": {
    "execution": {
     "iopub.execute_input": "2024-10-24T02:48:38.864208Z",
     "iopub.status.busy": "2024-10-24T02:48:38.862221Z",
     "iopub.status.idle": "2024-10-24T02:48:39.596209Z",
     "shell.execute_reply": "2024-10-24T02:48:39.595205Z",
     "shell.execute_reply.started": "2024-10-24T02:48:38.864165Z"
    },
    "trusted": true
   },
   "outputs": [
    {
     "data": {
      "image/png": "[encoded data removed]",
      "text/plain": [
       "<Figure size 1200x500 with 2 Axes>"
      ]
     },
     "metadata": {},
     "output_type": "display_data"
    }
   ],
   "source": [
    "plot_metrics(train_losses,val_losses ,train_accuracies,val_accuracies )\n",
    "+,m nbvc."
   ]
  }
 ],
 "metadata": {
  "kaggle": {
   "accelerator": "nvidiaTeslaT4",
   "dataSources": [
    {
     "datasetId": 601280,
     "sourceId": 1079953,
     "sourceType": "datasetVersion"
    }
   ],
   "dockerImageVersionId": 30787,
   "isGpuEnabled": true,
   "isInternetEnabled": true,
   "language": "python",
   "sourceType": "notebook"
  },
  "kernelspec": {
   "display_name": "Python 3",
   "language": "python",
   "name": "python3"
  },
  "language_info": {
   "codemirror_mode": {
    "name": "ipython",
    "version": 3
   },
   "file_extension": ".py",
   "mimetype": "text/x-python",
   "name": "python",
   "nbconvert_exporter": "python",
   "pygments_lexer": "ipython3",
   "version": "3.10.14"
  }
 },
 "nbformat": 4,
 "nbformat_minor": 4
}
